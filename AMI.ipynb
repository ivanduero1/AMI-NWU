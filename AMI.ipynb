{
 "cells": [
  {
   "cell_type": "code",
   "execution_count": 32,
   "metadata": {},
   "outputs": [],
   "source": [
    "class Account:\n",
    "    def __init__(self, account_id,balance, interest = 0):\n",
    "        if not isinstance(account_id,str):\n",
    "            raise TypeError('Account ID must be string')    \n",
    "        for id in account_id:\n",
    "            if id not in str(list(range(0,10))):\n",
    "                raise ValueError('Account ID must be within 0-9')\n",
    "        if not isinstance(balance,(int,float)):\n",
    "            raise TypeError('Balance must be int or float') \n",
    "        self.account_id = account_id\n",
    "        self.balance = balance\n",
    "        self.interest = interest\n",
    "    def __str__(self):\n",
    "        return (f'{self.account_id},{self.balance},{self.interest}')\n",
    "\n",
    "class Checking(Account):\n",
    "    def __init__(self,account_id,balance,interest=0):\n",
    "        super().__init__(account_id,balance,interest)\n",
    "        self.interest = 0\n",
    "    "
   ]
  },
  {
   "cell_type": "code",
   "execution_count": 33,
   "metadata": {},
   "outputs": [
    {
     "name": "stdout",
     "output_type": "stream",
     "text": [
      "001,200,0\n"
     ]
    }
   ],
   "source": [
    "hi = Checking('001',200,4)\n",
    "\n",
    "print(hi)\n"
   ]
  }
 ],
 "metadata": {
  "kernelspec": {
   "display_name": "Python 3",
   "language": "python",
   "name": "python3"
  },
  "language_info": {
   "codemirror_mode": {
    "name": "ipython",
    "version": 3
   },
   "file_extension": ".py",
   "mimetype": "text/x-python",
   "name": "python",
   "nbconvert_exporter": "python",
   "pygments_lexer": "ipython3",
   "version": "3.10.13"
  }
 },
 "nbformat": 4,
 "nbformat_minor": 2
}
