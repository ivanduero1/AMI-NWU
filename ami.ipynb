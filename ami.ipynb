{
 "cells": [
  {
   "cell_type": "code",
   "execution_count": null,
   "metadata": {},
   "outputs": [],
   "source": [
    "class Account:\n",
    "    def __init__(self, account_id,balance, interest = 0):\n",
    "        if not isinstance(account_id,str):\n",
    "            raise TypeError('Account ID must be string')    \n",
    "        for id in account_id:\n",
    "            if id not in str(list(range(0,10))):\n",
    "                raise ValueError('Account ID must be within 0-9')\n",
    "        if not isinstance(balance,(int,float)):\n",
    "            raise TypeError('Balance must be int or float') \n",
    "        self.account_id = account_id\n",
    "        self.balance = balance\n",
    "        self.interest = interest\n",
    "    def __str__(self):\n",
    "        return (f'{self.account_id},{self.balance},{self.interest}')\n",
    "\n",
    "class Checking(Account):\n",
    "    def __init__(self,account_id,balance,interest=0):\n",
    "        super().__init__(account_id,balance,interest)\n",
    "        self.interest = 0\n",
    "\n",
    "class Savings(Account):\n",
    "    def __init__(self,account_id,balance,interest=0):\n",
    "        super().__init__(account_id,balance,interest)\n",
    "        self.interest = 0"
   ]
  }
 ],
 "metadata": {
  "language_info": {
   "name": "python"
  }
 },
 "nbformat": 4,
 "nbformat_minor": 2
}
